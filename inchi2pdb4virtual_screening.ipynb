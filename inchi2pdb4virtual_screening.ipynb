{
 "cells": [
  {
   "cell_type": "code",
   "execution_count": 1,
   "id": "c61bf141",
   "metadata": {},
   "outputs": [],
   "source": [
    "from rdkit import Chem\n",
    "from rdkit.Chem import AllChem\n",
    "import os"
   ]
  },
  {
   "cell_type": "code",
   "execution_count": 2,
   "id": "30fe7381",
   "metadata": {},
   "outputs": [
    {
     "name": "stderr",
     "output_type": "stream",
     "text": [
      "[22:53:58] WARNING:  Problems/mismatches: Mobile-H( Mobile-H groups: Attachment points, Number)\n",
      "\n"
     ]
    },
    {
     "name": "stdout",
     "output_type": "stream",
     "text": [
      " InChI=1S/C123H80O78/c124-33-1-20(2-34(125)66(33)138)106(167)199-121-104-101(194-114(175)28-12-42(133)72(144)82(154)55(28)58-31(117(178)197-104)15-45(136)75(147)85(58)157)96-50(188-121)18-183-110(171)24-8-38(129)77(149)87(159)60(24)62-64(119(180)191-96)98(93(165)91(163)89(62)161)186-48-6-22(4-36(127)68(48)140)108(169)201-123-105-102(195-115(176)29-13-43(134)73(145)83(155)56(29)59-32(118(179)198-105)16-46(137)76(148)86(59)158)97-51(189-123)19-184-111(172)25-9-39(130)78(150)88(160)61(25)63-65(120(181)192-97)99(94(166)92(164)90(63)162)185-47-5-21(3-35(126)67(47)139)107(168)200-122-103-100(193-113(174)27-11-41(132)71(143)81(153)54(27)57-30(116(177)196-103)14-44(135)74(146)84(57)156)95-49(187-122)17-182-109(170)23-7-37(128)69(141)79(151)52(23)53-26(112(173)190-95)10-40(131)70(142)80(53)152/h1-16,49-51,95-97,100-105,121-166H,17-19H2/t49-,50-,51-,95-,96-,97-,100+,101+,102+,103-,104-,105-,121+,122+,123+/m1/s1 处理出错：Bad Conformer Id，跳过继续处理下一个SMILES\n",
      " InChI=1S/C43H48O21/c1-55-26-15-21(5-10-24(26)45)7-12-32(47)62-40-38(53)36(51)30(19-44)60-42(40)59-20-31-37(52)39(54)41(63-33(48)13-8-22-6-11-25(46)27(16-22)56-2)43(61-31)64-34(49)14-9-23-17-28(57-3)35(50)29(18-23)58-4/h5-18,30-31,36-46,50-54H,19-20H2,1-4H3/b12-7+,13-8+,14-9+/t30-,31-,36-,37-,38+,39+,40-,41-,42-,43+/m1/s1 处理出错：Bad Conformer Id，跳过继续处理下一个SMILES\n",
      " InChI=1S/C42H46O20/c1-54-27-16-21(4-10-24(27)44)7-13-32(47)60-39-37(52)35(50)30(19-43)58-41(39)57-20-31-36(51)38(53)40(61-33(48)14-8-22-5-11-25(45)28(17-22)55-2)42(59-31)62-34(49)15-9-23-6-12-26(46)29(18-23)56-3/h4-18,30-31,35-46,50-53H,19-20H2,1-3H3/b13-7+,14-8+,15-9+/t30-,31-,35-,36-,37+,38+,39-,40-,41-,42+/m1/s1 处理出错：Bad Conformer Id，跳过继续处理下一个SMILES\n"
     ]
    },
    {
     "ename": "KeyboardInterrupt",
     "evalue": "",
     "output_type": "error",
     "traceback": [
      "\u001b[1;31m---------------------------------------------------------------------------\u001b[0m",
      "\u001b[1;31mKeyboardInterrupt\u001b[0m                         Traceback (most recent call last)",
      "Cell \u001b[1;32mIn[2], line 16\u001b[0m\n\u001b[0;32m     14\u001b[0m AllChem\u001b[38;5;241m.\u001b[39mEmbedMolecule(mol, randomSeed\u001b[38;5;241m=\u001b[39m\u001b[38;5;241m0xf00d\u001b[39m)\n\u001b[0;32m     15\u001b[0m \u001b[38;5;66;03m# 最小化能量\u001b[39;00m\n\u001b[1;32m---> 16\u001b[0m \u001b[43mAllChem\u001b[49m\u001b[38;5;241;43m.\u001b[39;49m\u001b[43mMMFFOptimizeMolecule\u001b[49m\u001b[43m(\u001b[49m\u001b[43mmol\u001b[49m\u001b[43m)\u001b[49m\n\u001b[0;32m     17\u001b[0m \u001b[38;5;66;03m# 转换为PDB格式并写入文件\u001b[39;00m\n\u001b[0;32m     18\u001b[0m pdb_str \u001b[38;5;241m=\u001b[39m Chem\u001b[38;5;241m.\u001b[39mMolToPDBBlock(mol)\n",
      "\u001b[1;31mKeyboardInterrupt\u001b[0m: "
     ]
    }
   ],
   "source": [
    "count = 0\n",
    "\n",
    "# 读取txt文件并逐行处理\n",
    "with open('input.txt', 'r') as f:\n",
    "    for line in f.readlines():\n",
    "        # 去除行末换行符\n",
    "        inchi = line.strip()\n",
    "        try:\n",
    "            # 通过RDKit转换为分子对象\n",
    "            mol = Chem.MolFromInchi(inchi)\n",
    "            # 添加氢原子\n",
    "            mol = Chem.AddHs(mol)\n",
    "            # 生成3D结构\n",
    "            AllChem.EmbedMolecule(mol, randomSeed=0xf00d)\n",
    "            # 最小化能量\n",
    "            AllChem.MMFFOptimizeMolecule(mol)\n",
    "            # 转换为PDB格式并写入文件\n",
    "            pdb_str = Chem.MolToPDBBlock(mol)\n",
    "            count += 1\n",
    "            with open(f'{count}.pdb', 'w') as fw:\n",
    "                fw.write(pdb_str)\n",
    "        except Exception as e:\n",
    "            print(f\" {inchi} 处理出错：{str(e)}，跳过继续处理下一个SMILES\")\n",
    "print(\"所有InChi处理完毕！\")\n"
   ]
  },
  {
   "cell_type": "code",
   "execution_count": null,
   "id": "58e63cd0",
   "metadata": {},
   "outputs": [],
   "source": [
    "@echo\n",
    "for %%f in (*.pdbqt) do (\n",
    "\techo Processing ligand %%f\n",
    "\tif not exist \"%%~nf\" mkdir \"%%~nf\"\n",
    "\tqvina-w --config conf.txt --exhaustiveness=24 --ligand %%f --out \"%%~nf\"/out.pdbqt --log \"%%~nf\"/log.txt\n",
    "      timeout 10 )\n",
    "exit\n"
   ]
  },
  {
   "cell_type": "code",
   "execution_count": null,
   "id": "c6538efc",
   "metadata": {},
   "outputs": [],
   "source": [
    "# 遍历文件夹内所有文件\n",
    "for filename in os.listdir(folder_path):\n",
    "    # 找到日志文件\n",
    "    if filename.endswith('log.txt'):\n",
    "        with open(os.path.join(folder_path, filename), 'r') as f:\n",
    "            # 读取txt文件内容\n",
    "            content = f.read()\n",
    "            # 找到最小自由能\n",
    "            line_num = content.find('0.000')\n",
    "            if line_num != -1:\n",
    "                # 提取最小自由能\n",
    "                extract_line = content[line_num+4:]\n",
    "                # 写入到另一个txt文件\n",
    "                with open('output.txt', 'w') as f:\n",
    "                    f.write(extract_line)"
   ]
  }
 ],
 "metadata": {
  "kernelspec": {
   "display_name": "Python 3 (ipykernel)",
   "language": "python",
   "name": "python3"
  },
  "language_info": {
   "codemirror_mode": {
    "name": "ipython",
    "version": 3
   },
   "file_extension": ".py",
   "mimetype": "text/x-python",
   "name": "python",
   "nbconvert_exporter": "python",
   "pygments_lexer": "ipython3",
   "version": "3.10.9"
  }
 },
 "nbformat": 4,
 "nbformat_minor": 5
}
